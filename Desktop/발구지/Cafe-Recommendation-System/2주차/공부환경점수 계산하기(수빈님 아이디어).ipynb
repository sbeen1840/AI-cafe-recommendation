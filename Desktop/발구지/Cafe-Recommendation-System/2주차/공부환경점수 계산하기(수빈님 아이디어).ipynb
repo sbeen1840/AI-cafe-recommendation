{
 "cells": [
  {
   "cell_type": "code",
   "execution_count": 1,
   "id": "e38a8d40",
   "metadata": {},
   "outputs": [],
   "source": [
    "import pandas as pd"
   ]
  },
  {
   "cell_type": "code",
   "execution_count": 2,
   "id": "2023c5c0",
   "metadata": {},
   "outputs": [],
   "source": [
    "list = [] # 각 카페의 공부 환경 점수들을 넣을 리스트"
   ]
  },
  {
   "cell_type": "markdown",
   "id": "af3f268f",
   "metadata": {},
   "source": [
    "## 파일 불러오기"
   ]
  },
  {
   "cell_type": "code",
   "execution_count": 14,
   "id": "97f401c4",
   "metadata": {},
   "outputs": [],
   "source": [
    "df = pd.read_excel(\"C:/Users/User/Desktop/1.xlsx\", engine = \"openpyxl\")# 1 이라고 저장한 엑셀파일 데이터 프레임으로 불러오기"
   ]
  },
  {
   "cell_type": "code",
   "execution_count": 15,
   "id": "eb619625",
   "metadata": {},
   "outputs": [
    {
     "data": {
      "text/html": [
       "<div>\n",
       "<style scoped>\n",
       "    .dataframe tbody tr th:only-of-type {\n",
       "        vertical-align: middle;\n",
       "    }\n",
       "\n",
       "    .dataframe tbody tr th {\n",
       "        vertical-align: top;\n",
       "    }\n",
       "\n",
       "    .dataframe thead th {\n",
       "        text-align: right;\n",
       "    }\n",
       "</style>\n",
       "<table border=\"1\" class=\"dataframe\">\n",
       "  <thead>\n",
       "    <tr style=\"text-align: right;\">\n",
       "      <th></th>\n",
       "      <th>LABEL-1</th>\n",
       "      <th>LABEL-2</th>\n",
       "      <th>LABEL-3</th>\n",
       "    </tr>\n",
       "  </thead>\n",
       "  <tbody>\n",
       "    <tr>\n",
       "      <th>0</th>\n",
       "      <td>https://ssl.pstatic.net/static/pup/emoji/coffe...</td>\n",
       "      <td>\"커피가 맛있어요\"</td>\n",
       "      <td>이 키워드를 선택한 인원493</td>\n",
       "    </tr>\n",
       "    <tr>\n",
       "      <th>1</th>\n",
       "      <td>https://ssl.pstatic.net/static/pup/emoji/couch...</td>\n",
       "      <td>\"인테리어가 멋져요\"</td>\n",
       "      <td>이 키워드를 선택한 인원493</td>\n",
       "    </tr>\n",
       "    <tr>\n",
       "      <th>2</th>\n",
       "      <td>https://ssl.pstatic.net/static/pup/emoji/cake2...</td>\n",
       "      <td>\"디저트가 맛있어요\"</td>\n",
       "      <td>이 키워드를 선택한 인원381</td>\n",
       "    </tr>\n",
       "    <tr>\n",
       "      <th>3</th>\n",
       "      <td>https://ssl.pstatic.net/static/pup/emoji/frame...</td>\n",
       "      <td>\"뷰가 좋아요\"</td>\n",
       "      <td>이 키워드를 선택한 인원281</td>\n",
       "    </tr>\n",
       "    <tr>\n",
       "      <th>4</th>\n",
       "      <td>https://ssl.pstatic.net/static/pup/emoji/camer...</td>\n",
       "      <td>\"사진이 잘 나와요\"</td>\n",
       "      <td>이 키워드를 선택한 인원250</td>\n",
       "    </tr>\n",
       "    <tr>\n",
       "      <th>5</th>\n",
       "      <td>https://ssl.pstatic.net/static/pup/emoji/juice...</td>\n",
       "      <td>\"음료가 맛있어요\"</td>\n",
       "      <td>이 키워드를 선택한 인원137</td>\n",
       "    </tr>\n",
       "    <tr>\n",
       "      <th>6</th>\n",
       "      <td>https://ssl.pstatic.net/static/pup/emoji/restr...</td>\n",
       "      <td>\"화장실이 깨끗해요\"</td>\n",
       "      <td>이 키워드를 선택한 인원121</td>\n",
       "    </tr>\n",
       "    <tr>\n",
       "      <th>7</th>\n",
       "      <td>https://ssl.pstatic.net/static/pup/emoji/spark...</td>\n",
       "      <td>\"매장이 청결해요\"</td>\n",
       "      <td>이 키워드를 선택한 인원119</td>\n",
       "    </tr>\n",
       "    <tr>\n",
       "      <th>8</th>\n",
       "      <td>https://ssl.pstatic.net/static/pup/emoji/park_...</td>\n",
       "      <td>\"주차하기 편해요\"</td>\n",
       "      <td>이 키워드를 선택한 인원101</td>\n",
       "    </tr>\n",
       "    <tr>\n",
       "      <th>9</th>\n",
       "      <td>https://ssl.pstatic.net/static/pup/emoji/beati...</td>\n",
       "      <td>\"친절해요\"</td>\n",
       "      <td>이 키워드를 선택한 인원69</td>\n",
       "    </tr>\n",
       "    <tr>\n",
       "      <th>10</th>\n",
       "      <td>https://ssl.pstatic.net/static/pup/emoji/cook2...</td>\n",
       "      <td>\"특별한 메뉴가 있어요\"</td>\n",
       "      <td>이 키워드를 선택한 인원60</td>\n",
       "    </tr>\n",
       "    <tr>\n",
       "      <th>11</th>\n",
       "      <td>https://ssl.pstatic.net/static/pup/emoji/speak...</td>\n",
       "      <td>\"대화하기 좋아요\"</td>\n",
       "      <td>이 키워드를 선택한 인원52</td>\n",
       "    </tr>\n",
       "    <tr>\n",
       "      <th>12</th>\n",
       "      <td>https://ssl.pstatic.net/static/pup/emoji/couch...</td>\n",
       "      <td>\"좌석이 편해요\"</td>\n",
       "      <td>이 키워드를 선택한 인원38</td>\n",
       "    </tr>\n",
       "    <tr>\n",
       "      <th>13</th>\n",
       "      <td>https://ssl.pstatic.net/static/pup/emoji/coin2...</td>\n",
       "      <td>\"가성비가 좋아요\"</td>\n",
       "      <td>이 키워드를 선택한 인원16</td>\n",
       "    </tr>\n",
       "    <tr>\n",
       "      <th>14</th>\n",
       "      <td>https://ssl.pstatic.net/static/pup/emoji/lapto...</td>\n",
       "      <td>\"집중하기 좋아요\"</td>\n",
       "      <td>이 키워드를 선택한 인원7</td>\n",
       "    </tr>\n",
       "  </tbody>\n",
       "</table>\n",
       "</div>"
      ],
      "text/plain": [
       "                                              LABEL-1        LABEL-2  \\\n",
       "0   https://ssl.pstatic.net/static/pup/emoji/coffe...     \"커피가 맛있어요\"   \n",
       "1   https://ssl.pstatic.net/static/pup/emoji/couch...    \"인테리어가 멋져요\"   \n",
       "2   https://ssl.pstatic.net/static/pup/emoji/cake2...    \"디저트가 맛있어요\"   \n",
       "3   https://ssl.pstatic.net/static/pup/emoji/frame...       \"뷰가 좋아요\"   \n",
       "4   https://ssl.pstatic.net/static/pup/emoji/camer...    \"사진이 잘 나와요\"   \n",
       "5   https://ssl.pstatic.net/static/pup/emoji/juice...     \"음료가 맛있어요\"   \n",
       "6   https://ssl.pstatic.net/static/pup/emoji/restr...    \"화장실이 깨끗해요\"   \n",
       "7   https://ssl.pstatic.net/static/pup/emoji/spark...     \"매장이 청결해요\"   \n",
       "8   https://ssl.pstatic.net/static/pup/emoji/park_...     \"주차하기 편해요\"   \n",
       "9   https://ssl.pstatic.net/static/pup/emoji/beati...         \"친절해요\"   \n",
       "10  https://ssl.pstatic.net/static/pup/emoji/cook2...  \"특별한 메뉴가 있어요\"   \n",
       "11  https://ssl.pstatic.net/static/pup/emoji/speak...     \"대화하기 좋아요\"   \n",
       "12  https://ssl.pstatic.net/static/pup/emoji/couch...      \"좌석이 편해요\"   \n",
       "13  https://ssl.pstatic.net/static/pup/emoji/coin2...     \"가성비가 좋아요\"   \n",
       "14  https://ssl.pstatic.net/static/pup/emoji/lapto...     \"집중하기 좋아요\"   \n",
       "\n",
       "             LABEL-3  \n",
       "0   이 키워드를 선택한 인원493  \n",
       "1   이 키워드를 선택한 인원493  \n",
       "2   이 키워드를 선택한 인원381  \n",
       "3   이 키워드를 선택한 인원281  \n",
       "4   이 키워드를 선택한 인원250  \n",
       "5   이 키워드를 선택한 인원137  \n",
       "6   이 키워드를 선택한 인원121  \n",
       "7   이 키워드를 선택한 인원119  \n",
       "8   이 키워드를 선택한 인원101  \n",
       "9    이 키워드를 선택한 인원69  \n",
       "10   이 키워드를 선택한 인원60  \n",
       "11   이 키워드를 선택한 인원52  \n",
       "12   이 키워드를 선택한 인원38  \n",
       "13   이 키워드를 선택한 인원16  \n",
       "14    이 키워드를 선택한 인원7  "
      ]
     },
     "execution_count": 15,
     "metadata": {},
     "output_type": "execute_result"
    }
   ],
   "source": [
    "df"
   ]
  },
  {
   "cell_type": "code",
   "execution_count": 16,
   "id": "26755e19",
   "metadata": {},
   "outputs": [
    {
     "data": {
      "text/plain": [
       "0     493\n",
       "1     493\n",
       "2     381\n",
       "3     281\n",
       "4     250\n",
       "5     137\n",
       "6     121\n",
       "7     119\n",
       "8     101\n",
       "9      69\n",
       "10     60\n",
       "11     52\n",
       "12     38\n",
       "13     16\n",
       "14      7\n",
       "Name: LABEL-4, dtype: object"
      ]
     },
     "execution_count": 16,
     "metadata": {},
     "output_type": "execute_result"
    }
   ],
   "source": [
    "df['LABEL-4']=df['LABEL-3'].str.slice(13,16) # LABEL-3 열의 숫자만 추출(세 자릿수까지 고려해야 하므로 (13,16)을 써준다.)\n",
    "df['LABEL-4'] # dtype이 객체인 것을 확인할 수 있다."
   ]
  },
  {
   "cell_type": "markdown",
   "id": "13cf1853",
   "metadata": {},
   "source": [
    "#### dtype이 객체이므로 이를 정수 타입으로 바꿔준다 "
   ]
  },
  {
   "cell_type": "code",
   "execution_count": 17,
   "id": "84cdfd0a",
   "metadata": {},
   "outputs": [
    {
     "data": {
      "text/plain": [
       "0     493\n",
       "1     493\n",
       "2     381\n",
       "3     281\n",
       "4     250\n",
       "5     137\n",
       "6     121\n",
       "7     119\n",
       "8     101\n",
       "9      69\n",
       "10     60\n",
       "11     52\n",
       "12     38\n",
       "13     16\n",
       "14      7\n",
       "Name: LABEL-4, dtype: int64"
      ]
     },
     "execution_count": 17,
     "metadata": {},
     "output_type": "execute_result"
    }
   ],
   "source": [
    "df['LABEL-4']=df['LABEL-3'].map(lambda x:x[13:16]) \n",
    "#'LABEL-3'열의 [13:16]까지의 문자를 숫자만 추출해온 기존 데이터 df['LABEL-4']에 저장해준다. \n",
    "\n",
    "df['LABEL-4']=pd.to_numeric(df['LABEL-4']) \n",
    "# dtype을 객체 -> 정수\n",
    "\n",
    "df['LABEL-4']\n",
    "# dtype이 정수로 바뀐 것을 확인 할 수 있다. "
   ]
  },
  {
   "cell_type": "markdown",
   "id": "ae71fbf6",
   "metadata": {},
   "source": [
    "### 이제 총합을 구할 수 있게 되었다. "
   ]
  },
  {
   "cell_type": "code",
   "execution_count": 18,
   "id": "d697f01d",
   "metadata": {},
   "outputs": [
    {
     "data": {
      "text/plain": [
       "2618"
      ]
     },
     "execution_count": 18,
     "metadata": {},
     "output_type": "execute_result"
    }
   ],
   "source": [
    "df['LABEL-4'].sum()"
   ]
  },
  {
   "cell_type": "markdown",
   "id": "a41717c8",
   "metadata": {},
   "source": [
    "### LABEL-2의 매장이 청결해요 / 좌석이 편해요 / 집중하기 좋아요 카테고리 체크 수도 파악해야 한다."
   ]
  },
  {
   "cell_type": "code",
   "execution_count": 19,
   "id": "cb862a3c",
   "metadata": {},
   "outputs": [
    {
     "data": {
      "text/html": [
       "<div>\n",
       "<style scoped>\n",
       "    .dataframe tbody tr th:only-of-type {\n",
       "        vertical-align: middle;\n",
       "    }\n",
       "\n",
       "    .dataframe tbody tr th {\n",
       "        vertical-align: top;\n",
       "    }\n",
       "\n",
       "    .dataframe thead th {\n",
       "        text-align: right;\n",
       "    }\n",
       "</style>\n",
       "<table border=\"1\" class=\"dataframe\">\n",
       "  <thead>\n",
       "    <tr style=\"text-align: right;\">\n",
       "      <th></th>\n",
       "      <th>LABEL-1</th>\n",
       "      <th>LABEL-2</th>\n",
       "      <th>LABEL-3</th>\n",
       "      <th>LABEL-4</th>\n",
       "    </tr>\n",
       "  </thead>\n",
       "  <tbody>\n",
       "    <tr>\n",
       "      <th>7</th>\n",
       "      <td>https://ssl.pstatic.net/static/pup/emoji/spark...</td>\n",
       "      <td>\"매장이 청결해요\"</td>\n",
       "      <td>이 키워드를 선택한 인원119</td>\n",
       "      <td>119</td>\n",
       "    </tr>\n",
       "    <tr>\n",
       "      <th>12</th>\n",
       "      <td>https://ssl.pstatic.net/static/pup/emoji/couch...</td>\n",
       "      <td>\"좌석이 편해요\"</td>\n",
       "      <td>이 키워드를 선택한 인원38</td>\n",
       "      <td>38</td>\n",
       "    </tr>\n",
       "    <tr>\n",
       "      <th>14</th>\n",
       "      <td>https://ssl.pstatic.net/static/pup/emoji/lapto...</td>\n",
       "      <td>\"집중하기 좋아요\"</td>\n",
       "      <td>이 키워드를 선택한 인원7</td>\n",
       "      <td>7</td>\n",
       "    </tr>\n",
       "  </tbody>\n",
       "</table>\n",
       "</div>"
      ],
      "text/plain": [
       "                                              LABEL-1     LABEL-2  \\\n",
       "7   https://ssl.pstatic.net/static/pup/emoji/spark...  \"매장이 청결해요\"   \n",
       "12  https://ssl.pstatic.net/static/pup/emoji/couch...   \"좌석이 편해요\"   \n",
       "14  https://ssl.pstatic.net/static/pup/emoji/lapto...  \"집중하기 좋아요\"   \n",
       "\n",
       "             LABEL-3  LABEL-4  \n",
       "7   이 키워드를 선택한 인원119      119  \n",
       "12   이 키워드를 선택한 인원38       38  \n",
       "14    이 키워드를 선택한 인원7        7  "
      ]
     },
     "execution_count": 19,
     "metadata": {},
     "output_type": "execute_result"
    }
   ],
   "source": [
    "df_cond = df[df['LABEL-2'].str.contains('좌석|청결|집중')] \n",
    "# 조건을 걸어 df를 필터링 해준다. \n",
    "# 조건: 'LABEL-2에 있는 카테고리(문자열) 중 좌석 or 청결 or 집중이 포함되어 있는 카테고리(문자열)'\n",
    "df_cond"
   ]
  },
  {
   "cell_type": "markdown",
   "id": "b70c6379",
   "metadata": {},
   "source": [
    "### 위 세 개의 카테고리 체크 수 총합 계산"
   ]
  },
  {
   "cell_type": "code",
   "execution_count": 20,
   "id": "152d3ad8",
   "metadata": {},
   "outputs": [
    {
     "data": {
      "text/plain": [
       "164"
      ]
     },
     "execution_count": 20,
     "metadata": {},
     "output_type": "execute_result"
    }
   ],
   "source": [
    "df_cond['LABEL-4'].sum()"
   ]
  },
  {
   "cell_type": "markdown",
   "id": "d1396154",
   "metadata": {},
   "source": [
    "### 마지막으로 공부환경점수 계산!"
   ]
  },
  {
   "cell_type": "code",
   "execution_count": 21,
   "id": "f5375b67",
   "metadata": {},
   "outputs": [
    {
     "data": {
      "text/plain": [
       "0.06264323911382735"
      ]
     },
     "execution_count": 21,
     "metadata": {},
     "output_type": "execute_result"
    }
   ],
   "source": [
    "df_cond['LABEL-4'].sum()/df['LABEL-4'].sum()"
   ]
  },
  {
   "cell_type": "markdown",
   "id": "157e7237",
   "metadata": {},
   "source": [
    "## => 카테고리 데이터를 모두 크롤링 해온 후, 각 엑셀 파일 명을 번호로 매긴다(1,2,3....). \n",
    "## 그 후 for문을 만들어 주어서 이 과정을 엑셀 파일 수 만큼 반복해 주면, 한 번에 공부환경점수 데이터들을 얻을 수 있다."
   ]
  },
  {
   "cell_type": "markdown",
   "id": "6ec4427b",
   "metadata": {},
   "source": [
    "## 이를 한 번에 정리해보겠다."
   ]
  },
  {
   "cell_type": "code",
   "execution_count": null,
   "id": "55794f73",
   "metadata": {},
   "outputs": [],
   "source": [
    "import pandas as pd\n",
    "\n",
    "list = []\n",
    "\n",
    "for i in range(84): # 카페 카테고리 데이터가 84개가 있다.(1번~84번까지)\n",
    "    df = pd.read_excel(\"C:/Users/User/Desktop/%d.xlsx\"%(i+1), engine = \"openpyxl\")\n",
    "    \n",
    "    df['LABEL-4']=df['LABEL-3'].str.slice(13,16) \n",
    "    df['LABEL-4']=df['LABEL-3'].map(lambda x:x[13:16]) \n",
    "    df['LABEL-4']=pd.to_numeric(df['LABEL-4']) \n",
    "    a = df['LABEL-4'].sum() # 카테고리 체크 수 총합\n",
    "    \n",
    "    df_cond = df[df['LABEL-2'].str.contains('좌석|청결|집중')] \n",
    "    b = df_cond.sum() # 각 기준 카테고리 체크 수 총합\n",
    "    \n",
    "    list.append(b/a) # 반복문을 돌면서 각 카페의 공부환경 점수를 넣어준다.\n",
    "\n",
    "cafe = pd.DataFrame() # cafe라는 데이터 프레임 생성\n",
    "cafe['공부환경점수'] = list # 공부환경점수 열을 만들고, 그 열의 값들을 리스트로 해준다.\n",
    "\n",
    "cafe # 그럼 끝~\n",
    "    "
   ]
  }
 ],
 "metadata": {
  "kernelspec": {
   "display_name": "Python 3 (ipykernel)",
   "language": "python",
   "name": "python3"
  },
  "language_info": {
   "codemirror_mode": {
    "name": "ipython",
    "version": 3
   },
   "file_extension": ".py",
   "mimetype": "text/x-python",
   "name": "python",
   "nbconvert_exporter": "python",
   "pygments_lexer": "ipython3",
   "version": "3.9.12"
  }
 },
 "nbformat": 4,
 "nbformat_minor": 5
}

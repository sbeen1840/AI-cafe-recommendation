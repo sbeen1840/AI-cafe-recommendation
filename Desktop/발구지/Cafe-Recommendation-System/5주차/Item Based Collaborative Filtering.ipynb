{
 "cells": [
  {
   "cell_type": "code",
   "execution_count": 1,
   "id": "8d2d32b7",
   "metadata": {},
   "outputs": [
    {
     "name": "stdout",
     "output_type": "stream",
     "text": [
      "   col1  col2\n",
      "0     1     1\n",
      "1     2     4\n",
      "2     3     2\n",
      "3     4     8\n",
      "4     5    16\n",
      "5     6    32\n",
      "\n",
      "   col1  col2\n",
      "0     6     3\n",
      "1     5     6\n",
      "2     4     1\n",
      "3     3     2\n",
      "4     2     5\n",
      "5     1     9\n"
     ]
    }
   ],
   "source": [
    "import pandas as pd\n",
    "\n",
    "data1 = {\"col1\":[1,2,3,4,5,6],\"col2\":[1,4,2,8,16,32]}\n",
    "data2 = {\"col1\":[6,5,4,3,2,1],\"col2\":[3,6,1,2,5,9]}\n",
    "df1 = pd.DataFrame(data1) # 데이터프레임1\n",
    "df2 = pd.DataFrame(data2) # 데이터프레임2\n",
    "print(df1)\n",
    "print()\n",
    "print(df2)"
   ]
  },
  {
   "cell_type": "markdown",
   "id": "ce5eef3c",
   "metadata": {},
   "source": [
    "---\n",
    "\n",
    "- corr메서드는 각 열 간의 상관 계수를 반환하는 메서드입니다.\n",
    "- corrwith메서드는 두 DataFrame객체의 동일한 행/열 간의 상관 계수를 반환하는 메서드입니다."
   ]
  },
  {
   "cell_type": "markdown",
   "id": "abd03b2b",
   "metadata": {},
   "source": [
    "- DataFrame.corr(method='pearson or kendall or spearman', min_periods=1)\n",
    "- DataFrame.corrwith(other, axis=0, drop=False, method='pearson or kendall or spearman')"
   ]
  },
  {
   "attachments": {
    "image-2.png": {
     "image/png": "[encoded data removed]"
    },
    "image.png": {
     "image/png": "[encoded data removed]"
    }
   },
   "cell_type": "markdown",
   "id": "8613405c",
   "metadata": {},
   "source": [
    "### [피어슨 상관계수]\n",
    "\n",
    "- 피어슨 상관계수는 두 변수 간의 선형 상관관계를 계량화 한 수치입니다. 코시-슈바르츠 부등식에 의해 +1과 -1사이의 값을 가집니다.\n",
    "\n",
    "- +1의 경우 완벽한 양의 선형 상관 관계, -1의 경우 완벽한 음의 상관관계, 0의 경우 선형 상관관계를 갖지 않습니다.\n",
    "\n",
    "\n",
    "![image.png](attachment:image.png)\n",
    "\n",
    "\n",
    "### [켄달-타우상관계수]\n",
    "\n",
    "- 켄달-타우 상관계수는 두 변수들간의 순위를 비교해서 연관성을 계산하는 방식입니다.\n",
    "\n",
    "- 예를들어 어린이의 나이와 키에 대한 아래와 같은 순위 데이터를 보면, 나이순위에 따라 키의 순위가 동일한 것을 알 수 있습니다.\n",
    "\n",
    "\n",
    "![image-2.png](attachment:image-2.png)\n",
    "\n",
    "-> 이런 경우 켄달-타우 상관계수의 경우 완벽한 양의 상관 계수인 +1이 됩니다.\n",
    "\n",
    "### [스피어먼 상관계수]\n",
    "\n",
    "- 스피어먼 상관계수는 두 변수의 순위 값 사이의 피어슨 상관 계수와 같습니다.\n",
    "\n",
    "- 즉, 순서척도가 적용되는 경우에는 스피어먼 상관계수가, 간격척도가 적용되는 경우에는 피어슨 상관계수가 적용됩니다.\n",
    "\n",
    "---"
   ]
  },
  {
   "cell_type": "code",
   "execution_count": 3,
   "id": "e9da2c79",
   "metadata": {},
   "outputs": [
    {
     "name": "stdout",
     "output_type": "stream",
     "text": [
      "col1   -1.000000\n",
      "col2    0.801835\n",
      "dtype: float64\n"
     ]
    }
   ],
   "source": [
    "print(df1.corrwith(other = df2, method = 'pearson')) # 피어슨 상관계수 적용\n"
   ]
  },
  {
   "cell_type": "markdown",
   "id": "3f554633",
   "metadata": {},
   "source": [
    "---"
   ]
  },
  {
   "cell_type": "code",
   "execution_count": 4,
   "id": "ca27d69b",
   "metadata": {},
   "outputs": [],
   "source": [
    "data3 = {\"col1\":[1,2,3,4,5,6],\"col2\":[1,4,2,8,16,32]}\n",
    "data4 = {\"col1\":[6,5,4,3,2,1],\"col3\":[3,6,1,2,5,9]}\n",
    "df3 = pd.DataFrame(data3)\n",
    "df4 = pd.DataFrame(data4)"
   ]
  },
  {
   "cell_type": "code",
   "execution_count": 5,
   "id": "a4f8d0c5",
   "metadata": {},
   "outputs": [
    {
     "name": "stdout",
     "output_type": "stream",
     "text": [
      "col1   -1.0\n",
      "col2    NaN\n",
      "col3    NaN\n",
      "dtype: float64\n"
     ]
    }
   ],
   "source": [
    "print(df3.corrwith(other = df4, method = 'pearson')) \n",
    "# 피어슨 상관계수 적용\n",
    "# corrwith를 사용하면 두 데이터가 공통으로 갖는 열에 대해서만 상관관계 계산이 진행된다."
   ]
  },
  {
   "cell_type": "code",
   "execution_count": 6,
   "id": "225827d8",
   "metadata": {},
   "outputs": [
    {
     "name": "stdout",
     "output_type": "stream",
     "text": [
      "col1   -1.0\n",
      "dtype: float64\n"
     ]
    }
   ],
   "source": [
    "print(df3.corrwith(other = df4, method = 'pearson', drop = True)) # drop=True를 설정하면 NaN 열을 제외하고 출력한다."
   ]
  },
  {
   "cell_type": "markdown",
   "id": "e720273b",
   "metadata": {},
   "source": [
    "---"
   ]
  },
  {
   "cell_type": "code",
   "execution_count": 7,
   "id": "8ca4ab3a",
   "metadata": {},
   "outputs": [
    {
     "name": "stdout",
     "output_type": "stream",
     "text": [
      "   col4  col5  col6\n",
      "0     1     1     6\n",
      "1     2     4     5\n",
      "2     3     2     4\n",
      "3     4     8     3\n",
      "4     5    16     2\n",
      "5     6    32     1\n"
     ]
    }
   ],
   "source": [
    "# 이번에는 corr() 메서드를 써보자\n",
    "\n",
    "col4 = [1,2,3,4,5,6]\n",
    "col5 = [1,4,2,8,16,32]\n",
    "col6 = [6,5,4,3,2,1]\n",
    "data = {\"col4\":col4,\"col5\":col5,\"col6\":col6}\n",
    "df = pd.DataFrame(data)\n",
    "print(df)"
   ]
  },
  {
   "cell_type": "code",
   "execution_count": 8,
   "id": "02b28382",
   "metadata": {},
   "outputs": [
    {
     "name": "stdout",
     "output_type": "stream",
     "text": [
      "          col4      col5      col6\n",
      "col4  1.000000  0.887739 -1.000000\n",
      "col5  0.887739  1.000000 -0.887739\n",
      "col6 -1.000000 -0.887739  1.000000\n"
     ]
    }
   ],
   "source": [
    "print(df.corr(method='pearson')) # 피어슨 상관계수 적용"
   ]
  },
  {
   "cell_type": "markdown",
   "id": "239c087c",
   "metadata": {},
   "source": [
    "- col4이 증가할 경우 col5는 대체로 증가하는 경향을 가지기에 0<p<1의 값을 가지며,\n",
    "- col4이 증가할 경우 col6은 완벽히 감소하기 때문에 p=-1의 값을 가집니다"
   ]
  },
  {
   "cell_type": "code",
   "execution_count": 9,
   "id": "aa14a35c",
   "metadata": {},
   "outputs": [
    {
     "name": "stdout",
     "output_type": "stream",
     "text": [
      "          col4      col5      col6\n",
      "col4  1.000000  0.866667 -1.000000\n",
      "col5  0.866667  1.000000 -0.866667\n",
      "col6 -1.000000 -0.866667  1.000000\n"
     ]
    }
   ],
   "source": [
    "print(df.corr(method='kendall')) # 켄달-타우 상관계수 적용"
   ]
  },
  {
   "cell_type": "markdown",
   "id": "87d93610",
   "metadata": {},
   "source": [
    "- col4의 순위는 col5의 순위와 대체로 일치 하기에 0<p<1의 값을 가지며,\n",
    "- col4의 순위는 col6의 순위와 완벽히 반대이기 때문에 p=-1의 값을 가집니다"
   ]
  },
  {
   "cell_type": "code",
   "execution_count": 10,
   "id": "aaabbd1a",
   "metadata": {},
   "outputs": [
    {
     "name": "stdout",
     "output_type": "stream",
     "text": [
      "          col4      col5      col6\n",
      "col4  1.000000  0.942857 -1.000000\n",
      "col5  0.942857  1.000000 -0.942857\n",
      "col6 -1.000000 -0.942857  1.000000\n"
     ]
    }
   ],
   "source": [
    "print(df.corr(method='spearman')) # 스피어먼 상관계수 적용"
   ]
  },
  {
   "cell_type": "markdown",
   "id": "9596f804",
   "metadata": {},
   "source": [
    "- col4의 변수들의 순위는 col5의 변수들의 순위와 대체로 일치 하기에 두 변수의 순위의 피어슨 상관계수는 0<p<1의 값을 가지며,\n",
    "- col4의 변수들의 순위는 col6의 변수들의 순위와 완벽히 반대이기 때문에 두 변수의 순위의 피어슨 상관계수는p=-1의 값을 가집니다"
   ]
  },
  {
   "cell_type": "markdown",
   "id": "527db6af",
   "metadata": {},
   "source": [
    "# 위 방식들을 활용하여, 아이템 기반 협업 필터링을 진행해봐도 좋을 듯 하다\n",
    "\n",
    "---"
   ]
  },
  {
   "cell_type": "markdown",
   "id": "c8670340",
   "metadata": {},
   "source": [
    "### 그렇다면 무엇을 기준으로 어떤 상관계수를 적용할 것인가?"
   ]
  },
  {
   "cell_type": "markdown",
   "id": "a4bf624c",
   "metadata": {},
   "source": [
    "### => 평점 (단 카.공과 관련된 평점이 아니다보니 카공의 방향성에 안 어울릴 수 있다...\n",
    "### => 그럼 어떤 기준??\n",
    "\n",
    "참고\n",
    "https://www.kaggle.com/code/kanncaa1/recommendation-systems-tutorial"
   ]
  },
  {
   "cell_type": "code",
   "execution_count": null,
   "id": "15cab124",
   "metadata": {},
   "outputs": [],
   "source": []
  }
 ],
 "metadata": {
  "kernelspec": {
   "display_name": "Python 3 (ipykernel)",
   "language": "python",
   "name": "python3"
  },
  "language_info": {
   "codemirror_mode": {
    "name": "ipython",
    "version": 3
   },
   "file_extension": ".py",
   "mimetype": "text/x-python",
   "name": "python",
   "nbconvert_exporter": "python",
   "pygments_lexer": "ipython3",
   "version": "3.9.12"
  }
 },
 "nbformat": 4,
 "nbformat_minor": 5
}
